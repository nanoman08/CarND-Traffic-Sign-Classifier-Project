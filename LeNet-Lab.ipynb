{
 "cells": [
  {
   "cell_type": "markdown",
   "metadata": {},
   "source": [
    "# LeNet Lab\n",
    "![LeNet Architecture](lenet.png)\n",
    "Source: Yan LeCun"
   ]
  },
  {
   "cell_type": "markdown",
   "metadata": {},
   "source": [
    "## Load Data\n",
    "\n",
    "Load the MNIST data, which comes pre-loaded with TensorFlow.\n",
    "\n",
    "You do not need to modify this section."
   ]
  },
  {
   "cell_type": "code",
   "execution_count": 1,
   "metadata": {
    "collapsed": false
   },
   "outputs": [
    {
     "name": "stdout",
     "output_type": "stream",
     "text": [
      "\n",
      "Image Shape: (32, 32, 3)\n",
      "\n",
      "Training Set:   34799 samples\n",
      "Validation Set: 4410 samples\n",
      "Test Set:       12630 samples\n"
     ]
    }
   ],
   "source": [
    "# Load pickled data\n",
    "import pickle\n",
    "import cv2\n",
    "\n",
    "\n",
    "def grayscale(data):\n",
    "    data_all=[]\n",
    "    for image in data:\n",
    "        image = cv2.cvtColor(image, cv2.COLOR_RGB2GRAY)\n",
    "        image =  np.reshape(image, (32, 32, 1))\n",
    "        data_all.append(image)\n",
    "        \n",
    "    return data_all\n",
    "    \n",
    "\n",
    "\n",
    "\n",
    "# TODO: Fill this in based on where you saved the training and testing data\n",
    "\n",
    "training_file = \"train.p\"\n",
    "validation_file= \"valid.p\"\n",
    "testing_file = \"test.p\"\n",
    "\n",
    "with open(training_file, mode='rb') as f:\n",
    "    train = pickle.load(f)\n",
    "with open(validation_file, mode='rb') as f:\n",
    "    valid = pickle.load(f)\n",
    "with open(testing_file, mode='rb') as f:\n",
    "    test = pickle.load(f)\n",
    "    \n",
    "X_train, y_train = train['features'], train['labels']\n",
    "X_validation, y_validation = valid['features'], valid['labels']\n",
    "X_test, y_test = test['features'], test['labels']\n",
    "#X_train = grayscale(X_train)\n",
    "#X_train =  np.asarray(X_train)\n",
    "#X_validation = grayscale(X_validation)\n",
    "#X_validation =  np.asarray(X_validation)\n",
    "#X_test = grayscale(X_test)\n",
    "#X_test =  np.asarray(X_test)\n",
    "\n",
    "assert(len(X_train) == len(y_train))\n",
    "assert(len(X_validation) == len(y_validation))\n",
    "assert(len(X_test) == len(y_test))\n",
    "\n",
    "print()\n",
    "print(\"Image Shape: {}\".format(X_train[0].shape))\n",
    "print()\n",
    "print(\"Training Set:   {} samples\".format(len(X_train)))\n",
    "print(\"Validation Set: {} samples\".format(len(X_validation)))\n",
    "print(\"Test Set:       {} samples\".format(len(X_test)))"
   ]
  },
  {
   "cell_type": "markdown",
   "metadata": {},
   "source": [
    "The MNIST data that TensorFlow pre-loads comes as 28x28x1 images.\n",
    "\n",
    "However, the LeNet architecture only accepts 32x32xC images, where C is the number of color channels.\n",
    "\n",
    "In order to reformat the MNIST data into a shape that LeNet will accept, we pad the data with two rows of zeros on the top and bottom, and two columns of zeros on the left and right (28+2+2 = 32).\n",
    "\n",
    "You do not need to modify this section."
   ]
  },
  {
   "cell_type": "code",
   "execution_count": 12,
   "metadata": {
    "collapsed": false
   },
   "outputs": [
    {
     "name": "stdout",
     "output_type": "stream",
     "text": [
      "1\n",
      "Updated Image Shape: (32, 32, 3)\n",
      "<class 'numpy.ndarray'>\n"
     ]
    },
    {
     "data": {
      "image/png": "[encoded data removed]",
      "text/plain": [
       "<matplotlib.figure.Figure at 0x37835db978>"
      ]
     },
     "metadata": {},
     "output_type": "display_data"
    }
   ],
   "source": [
    "from sklearn.model_selection import StratifiedShuffleSplit\n",
    "import numpy as np\n",
    "import random\n",
    "import numpy as np\n",
    "import matplotlib.pyplot as plt\n",
    "%matplotlib inline\n",
    "# Pad images with 0s\n",
    "# X_train      = np.pad(X_train, ((0,0),(2,2),(2,2),(0,0)), 'constant')\n",
    "# X_validation = np.pad(X_validation, ((0,0),(2,2),(2,2),(0,0)), 'constant')\n",
    "# X_test       = np.pad(X_test, ((0,0),(2,2),(2,2),(0,0)), 'constant')\n",
    "\n",
    "sss = StratifiedShuffleSplit(n_splits=1, test_size=0.05, random_state=5)\n",
    "i=0\n",
    "for train_index, test_index in sss.split(X_train, y_train):\n",
    "    i+=1\n",
    "    print(i)\n",
    "    X_train2, X_test2 = X_train[train_index], X_train[test_index]\n",
    "    y_train2, y_test2 = y_train[train_index], y_train[test_index]\n",
    "\n",
    "    \n",
    "X_validation2 = np.concatenate((X_validation,X_test2))\n",
    "y_validation2 = np.concatenate((y_validation,y_test2))\n",
    "\n",
    "\n",
    "\n",
    "\n",
    "print(\"Updated Image Shape: {}\".format(X_train[0].shape))\n",
    "\n",
    "print(type(y_train))\n",
    "fig, axes = plt.subplots(nrows=1, ncols=3, sharey=True, figsize=(20,10))\n",
    "\n",
    "unique, counts = np.unique(y_train2, return_counts=True)\n",
    "#plt.subplot(131)\n",
    "axes[0].bar(unique, counts, 1, color=\"blue\") \n",
    "axes[0].set_title('y_train distribution')\n",
    "unique, counts = np.unique(y_validation2, return_counts=True)\n",
    "#plt.subplot(132)\n",
    "axes[1].bar(unique, counts, 1, color=\"blue\") \n",
    "axes[1].set_title('y_validation distribution')\n",
    "unique, counts = np.unique(y_test, return_counts=True)\n",
    "#plt.subplot(133)\n",
    "axes[2].bar(unique, counts, 1, color=\"red\") \n",
    "axes[2].set_title('y_test distribution')\n",
    "plt.show()"
   ]
  },
  {
   "cell_type": "markdown",
   "metadata": {},
   "source": [
    "## Visualize Data\n",
    "\n",
    "View a sample from the dataset.\n",
    "\n",
    "You do not need to modify this section."
   ]
  },
  {
   "cell_type": "code",
   "execution_count": null,
   "metadata": {
    "collapsed": true
   },
   "outputs": [],
   "source": []
  },
  {
   "cell_type": "code",
   "execution_count": 14,
   "metadata": {
    "collapsed": false
   },
   "outputs": [
    {
     "name": "stdout",
     "output_type": "stream",
     "text": [
      "(32, 32, 3)\n",
      "(32, 32, 3)\n",
      "3\n"
     ]
    },
    {
     "data": {
      "image/png": "[encoded data removed]",
      "text/plain": [
       "<matplotlib.figure.Figure at 0x37820ca5c0>"
      ]
     },
     "metadata": {},
     "output_type": "display_data"
    }
   ],
   "source": [
    "import random\n",
    "import numpy as np\n",
    "import matplotlib.pyplot as plt\n",
    "%matplotlib inline\n",
    "\n",
    "index = random.randint(0, len(X_train2))\n",
    "print(X_train2[index].shape)\n",
    "image = X_train2[index].squeeze()\n",
    "print(image.shape)\n",
    "\n",
    "plt.figure(figsize=(1,1))\n",
    "plt.imshow(image)\n",
    "print(y_train2[index])"
   ]
  },
  {
   "cell_type": "markdown",
   "metadata": {},
   "source": [
    "## Preprocess Data\n",
    "\n",
    "Shuffle the training data.\n",
    "\n",
    "You do not need to modify this section."
   ]
  },
  {
   "cell_type": "code",
   "execution_count": 15,
   "metadata": {
    "collapsed": false
   },
   "outputs": [],
   "source": [
    "from sklearn.utils import shuffle\n",
    "\n",
    "X_train2, y_train2 = shuffle(X_train2, y_train2)"
   ]
  },
  {
   "cell_type": "markdown",
   "metadata": {},
   "source": [
    "## Setup TensorFlow\n",
    "The `EPOCH` and `BATCH_SIZE` values affect the training speed and model accuracy.\n",
    "\n",
    "You do not need to modify this section."
   ]
  },
  {
   "cell_type": "code",
   "execution_count": 16,
   "metadata": {
    "collapsed": true
   },
   "outputs": [],
   "source": [
    "import tensorflow as tf\n",
    "\n",
    "EPOCHS = 10\n",
    "BATCH_SIZE = 128"
   ]
  },
  {
   "cell_type": "markdown",
   "metadata": {},
   "source": [
    "## TODO: Implement LeNet-5\n",
    "Implement the [LeNet-5](http://yann.lecun.com/exdb/lenet/) neural network architecture.\n",
    "\n",
    "This is the only cell you need to edit.\n",
    "### Input\n",
    "The LeNet architecture accepts a 32x32xC image as input, where C is the number of color channels. Since MNIST images are grayscale, C is 1 in this case.\n",
    "\n",
    "### Architecture\n",
    "**Layer 1: Convolutional.** The output shape should be 28x28x6.\n",
    "\n",
    "**Activation.** Your choice of activation function.\n",
    "\n",
    "**Pooling.** The output shape should be 14x14x6.\n",
    "\n",
    "**Layer 2: Convolutional.** The output shape should be 10x10x16.\n",
    "\n",
    "**Activation.** Your choice of activation function.\n",
    "\n",
    "**Pooling.** The output shape should be 5x5x16.\n",
    "\n",
    "**Flatten.** Flatten the output shape of the final pooling layer such that it's 1D instead of 3D. The easiest way to do is by using `tf.contrib.layers.flatten`, which is already imported for you.\n",
    "\n",
    "**Layer 3: Fully Connected.** This should have 120 outputs.\n",
    "\n",
    "**Activation.** Your choice of activation function.\n",
    "\n",
    "**Layer 4: Fully Connected.** This should have 84 outputs.\n",
    "\n",
    "**Activation.** Your choice of activation function.\n",
    "\n",
    "**Layer 5: Fully Connected (Logits).** This should have 10 outputs.\n",
    "\n",
    "### Output\n",
    "Return the result of the 2nd fully connected layer."
   ]
  },
  {
   "cell_type": "code",
   "execution_count": 17,
   "metadata": {
    "collapsed": false
   },
   "outputs": [],
   "source": [
    "from tensorflow.contrib.layers import flatten\n",
    "\n",
    "def conv2d(x, W, b, strides=1, padding = 'VALID'):\n",
    "    x = tf.nn.conv2d(x, W, strides=[1, strides, strides, 1], padding= padding)\n",
    "    x = tf.nn.bias_add(x, b)\n",
    "    return tf.nn.relu(x)\n",
    "\n",
    "def maxpool2d(x, k=2):\n",
    "    return tf.nn.max_pool(\n",
    "        x,\n",
    "        ksize=[1, k, k, 1],\n",
    "        strides=[1, k, k, 1],\n",
    "        padding='VALID')\n",
    "\n",
    "def LeNet(x, keep_prob):    \n",
    "    # Arguments used for tf.truncated_normal, randomly defines variables for the weights and biases for each layer\n",
    "    mu = 0\n",
    "    sigma = 0.1\n",
    "    # Store layers weight & bias\n",
    "\n",
    "    weights = {\n",
    "        #'wc1': tf.Variable(tf.truncated_normal(shape=(5, 5, 3, 6), mean = mu, stddev = sigma)),\n",
    "        #'wc2': tf.Variable(tf.truncated_normal(shape=(5, 5, 6, 16),mean = mu, stddev = sigma)),\n",
    "        'wc1': tf.Variable(tf.truncated_normal(shape=(5, 3, 3, 6), mean = mu, stddev = sigma)),\n",
    "        'wc2': tf.Variable(tf.truncated_normal(shape=(5, 5, 6, 16),mean = mu, stddev = sigma)),\n",
    "        'wd1': tf.Variable(tf.truncated_normal(shape=(400, 120),mean = mu, stddev = sigma)),\n",
    "        'wd2': tf.Variable(tf.truncated_normal(shape=(120, 84),mean = mu, stddev = sigma)),\n",
    "        'wd3': tf.Variable(tf.truncated_normal(shape=(84, 43),mean = mu, stddev = sigma))}\n",
    "\n",
    "    biases = {\n",
    "        'bc1': tf.Variable(tf.truncated_normal([6])),\n",
    "        'bc2': tf.Variable(tf.truncated_normal([16])),\n",
    "        'bd1': tf.Variable(tf.truncated_normal([120])),\n",
    "        'bd2': tf.Variable(tf.truncated_normal([84])),\n",
    "        'bd3': tf.Variable(tf.truncated_normal([43]))}\n",
    "    \n",
    "    # TODO: Layer 1: Convolutional. Input = 32x32x1. Output = 28x28x6.\n",
    "\n",
    "    conv1 = conv2d(x, weights['wc1'], biases['bc1'], strides=1)\n",
    "    conv1 = tf.nn.dropout(conv1, keep_prob )\n",
    "\n",
    "    # TODO: Activation.\n",
    "    conv1 = tf.nn.relu(conv1)\n",
    "\n",
    "    # TODO: Pooling. Input = 28x28x6. Output = 14x14x6.\n",
    "    pool1 = maxpool2d(conv1, k=2)\n",
    "\n",
    "    # TODO: Layer 2: Convolutional. Output = 10x10x16.\n",
    "    conv2 = conv2d(pool1, weights['wc2'], biases['bc2'], strides=1)\n",
    "    # TODO: Activation.\n",
    "    conv2 = tf.nn.dropout(conv2, keep_prob2 )\n",
    "    conv2 = tf.nn.relu(conv2)\n",
    "\n",
    "    # TODO: Pooling. Input = 10x10x16. Output = 5x5x16.\n",
    "    pool2 = maxpool2d(conv2, k =2)\n",
    "\n",
    "    # TODO: Flatten. Input = 5x5x16. Output = 400.\n",
    "    fc1 = flatten(pool2)\n",
    "\n",
    "    # TODO: Layer 3: Fully Connected. Input = 400. Output = 120.\n",
    "    fc1 = tf.add(tf.matmul(fc1, weights['wd1']), biases['bd1'])\n",
    "    \n",
    "    \n",
    "    \n",
    "    # TODO: Activation.\n",
    "    fc1 = tf.nn.relu(fc1)\n",
    "\n",
    "    # TODO: Layer 4: Fully Connected. Input = 120. Output = 84.\n",
    "    fc2 = tf.add(tf.matmul(fc1, weights['wd2']), biases['bd2'])\n",
    "    fc2 = tf.nn.dropout(fc2, keep_prob3 )\n",
    "    # TODO: Activation.\n",
    "    fc2 = tf.nn.relu(fc2)\n",
    "\n",
    "    # TODO: Layer 5: Fully Connected. Input = 84. Output = 10.\n",
    "    logits = tf.add(tf.matmul(fc2, weights['wd3']), biases['bd3'])\n",
    "    \n",
    "    return logits"
   ]
  },
  {
   "cell_type": "markdown",
   "metadata": {},
   "source": [
    "## Features and Labels\n",
    "Train LeNet to classify [MNIST](http://yann.lecun.com/exdb/mnist/) data.\n",
    "\n",
    "`x` is a placeholder for a batch of input images.\n",
    "`y` is a placeholder for a batch of output labels.\n",
    "\n",
    "You do not need to modify this section."
   ]
  },
  {
   "cell_type": "code",
   "execution_count": 18,
   "metadata": {
    "collapsed": false
   },
   "outputs": [],
   "source": [
    "x = tf.placeholder(tf.float32, (None, 32, 32, 3))\n",
    "y = tf.placeholder(tf.int32, (None))\n",
    "one_hot_y = tf.one_hot(y, 43)\n",
    "keep_prob = tf.placeholder(tf.float32)\n",
    "keep_prob2 = tf.placeholder(tf.float32)\n",
    "keep_prob3 = tf.placeholder(tf.float32)"
   ]
  },
  {
   "cell_type": "markdown",
   "metadata": {},
   "source": [
    "## Training Pipeline\n",
    "Create a training pipeline that uses the model to classify MNIST data.\n",
    "\n",
    "You do not need to modify this section."
   ]
  },
  {
   "cell_type": "code",
   "execution_count": 19,
   "metadata": {
    "collapsed": false
   },
   "outputs": [],
   "source": [
    "\n",
    "rate = 0.001\n",
    "logits = LeNet(x, keep_prob)\n",
    "cross_entropy = tf.nn.softmax_cross_entropy_with_logits(logits, one_hot_y)\n",
    "loss_operation = tf.reduce_mean(cross_entropy)\n",
    "optimizer = tf.train.AdamOptimizer(learning_rate = rate)\n",
    "training_operation = optimizer.minimize(loss_operation)"
   ]
  },
  {
   "cell_type": "markdown",
   "metadata": {},
   "source": [
    "## Model Evaluation\n",
    "Evaluate how well the loss and accuracy of the model for a given dataset.\n",
    "\n",
    "You do not need to modify this section."
   ]
  },
  {
   "cell_type": "code",
   "execution_count": 20,
   "metadata": {
    "collapsed": true
   },
   "outputs": [],
   "source": [
    "correct_prediction = tf.equal(tf.argmax(logits, 1), tf.argmax(one_hot_y, 1))\n",
    "accuracy_operation = tf.reduce_mean(tf.cast(correct_prediction, tf.float32))\n",
    "saver = tf.train.Saver()\n",
    "\n",
    "def evaluate(X_data, y_data):\n",
    "    num_examples = len(X_data)\n",
    "    total_accuracy = 0\n",
    "    sess = tf.get_default_session()\n",
    "    for offset in range(0, num_examples, BATCH_SIZE):\n",
    "        batch_x, batch_y = X_data[offset:offset+BATCH_SIZE], y_data[offset:offset+BATCH_SIZE]\n",
    "        accuracy = sess.run(accuracy_operation, feed_dict={x: batch_x, y: batch_y, keep_prob: 1, keep_prob2: 1, keep_prob3: 1})\n",
    "        total_accuracy += (accuracy * len(batch_x))\n",
    "    return total_accuracy / num_examples"
   ]
  },
  {
   "cell_type": "markdown",
   "metadata": {},
   "source": [
    "## Train the Model\n",
    "Run the training data through the training pipeline to train the model.\n",
    "\n",
    "Before each epoch, shuffle the training set.\n",
    "\n",
    "After each epoch, measure the loss and accuracy of the validation set.\n",
    "\n",
    "Save the model after training.\n",
    "\n",
    "You do not need to modify this section."
   ]
  },
  {
   "cell_type": "code",
   "execution_count": 21,
   "metadata": {
    "collapsed": false
   },
   "outputs": [
    {
     "name": "stdout",
     "output_type": "stream",
     "text": [
      "Training...\n",
      "\n",
      "EPOCH 1 ...\n",
      "Train Accuracy = 0.669\n",
      "Validation Accuracy = 0.579\n",
      "\n",
      "EPOCH 2 ...\n",
      "Train Accuracy = 0.585\n",
      "Validation Accuracy = 0.533\n",
      "\n",
      "EPOCH 3 ...\n",
      "Train Accuracy = 0.875\n",
      "Validation Accuracy = 0.807\n",
      "\n",
      "EPOCH 4 ...\n",
      "Train Accuracy = 0.772\n",
      "Validation Accuracy = 0.718\n",
      "\n",
      "EPOCH 5 ...\n",
      "Train Accuracy = 0.837\n",
      "Validation Accuracy = 0.755\n",
      "\n",
      "EPOCH 6 ...\n",
      "Train Accuracy = 0.937\n",
      "Validation Accuracy = 0.860\n",
      "\n",
      "EPOCH 7 ...\n",
      "Train Accuracy = 0.937\n",
      "Validation Accuracy = 0.855\n",
      "\n",
      "EPOCH 8 ...\n",
      "Train Accuracy = 0.895\n",
      "Validation Accuracy = 0.812\n",
      "\n",
      "EPOCH 9 ...\n",
      "Train Accuracy = 0.934\n",
      "Validation Accuracy = 0.846\n",
      "\n",
      "EPOCH 10 ...\n",
      "Train Accuracy = 0.956\n",
      "Validation Accuracy = 0.866\n",
      "\n",
      "EPOCH 11 ...\n",
      "Train Accuracy = 0.841\n",
      "Validation Accuracy = 0.754\n",
      "\n",
      "EPOCH 12 ...\n",
      "Train Accuracy = 0.985\n",
      "Validation Accuracy = 0.896\n",
      "\n",
      "EPOCH 13 ...\n",
      "Train Accuracy = 0.960\n",
      "Validation Accuracy = 0.872\n",
      "\n",
      "EPOCH 14 ...\n",
      "Train Accuracy = 0.874\n",
      "Validation Accuracy = 0.785\n",
      "\n",
      "EPOCH 15 ...\n",
      "Train Accuracy = 0.955\n",
      "Validation Accuracy = 0.872\n",
      "\n",
      "EPOCH 16 ...\n",
      "Train Accuracy = 0.982\n",
      "Validation Accuracy = 0.897\n",
      "\n",
      "EPOCH 17 ...\n",
      "Train Accuracy = 0.957\n",
      "Validation Accuracy = 0.870\n",
      "\n",
      "EPOCH 18 ...\n",
      "Train Accuracy = 0.919\n",
      "Validation Accuracy = 0.837\n",
      "\n",
      "EPOCH 19 ...\n",
      "Train Accuracy = 0.981\n",
      "Validation Accuracy = 0.891\n",
      "\n",
      "EPOCH 20 ...\n",
      "Train Accuracy = 0.944\n",
      "Validation Accuracy = 0.867\n",
      "\n",
      "EPOCH 21 ...\n",
      "Train Accuracy = 0.912\n",
      "Validation Accuracy = 0.840\n",
      "\n",
      "EPOCH 22 ...\n",
      "Train Accuracy = 0.942\n",
      "Validation Accuracy = 0.853\n",
      "\n",
      "EPOCH 23 ...\n",
      "Train Accuracy = 0.976\n",
      "Validation Accuracy = 0.893\n",
      "\n",
      "EPOCH 24 ...\n",
      "Train Accuracy = 0.949\n",
      "Validation Accuracy = 0.868\n",
      "\n",
      "EPOCH 25 ...\n",
      "Train Accuracy = 0.941\n",
      "Validation Accuracy = 0.852\n",
      "\n",
      "EPOCH 26 ...\n",
      "Train Accuracy = 0.991\n",
      "Validation Accuracy = 0.916\n",
      "\n",
      "EPOCH 27 ...\n",
      "Train Accuracy = 0.963\n",
      "Validation Accuracy = 0.889\n",
      "\n",
      "EPOCH 28 ...\n",
      "Train Accuracy = 0.962\n",
      "Validation Accuracy = 0.892\n",
      "\n",
      "EPOCH 29 ...\n",
      "Train Accuracy = 0.993\n",
      "Validation Accuracy = 0.916\n",
      "\n",
      "EPOCH 30 ...\n",
      "Train Accuracy = 0.927\n",
      "Validation Accuracy = 0.846\n",
      "\n",
      "EPOCH 31 ...\n",
      "Train Accuracy = 0.958\n",
      "Validation Accuracy = 0.884\n",
      "\n",
      "EPOCH 32 ...\n",
      "Train Accuracy = 0.988\n",
      "Validation Accuracy = 0.912\n",
      "\n",
      "EPOCH 33 ...\n",
      "Train Accuracy = 0.970\n",
      "Validation Accuracy = 0.895\n",
      "\n",
      "EPOCH 34 ...\n",
      "Train Accuracy = 0.980\n",
      "Validation Accuracy = 0.906\n",
      "\n",
      "EPOCH 35 ...\n",
      "Train Accuracy = 0.972\n",
      "Validation Accuracy = 0.890\n",
      "\n",
      "EPOCH 36 ...\n",
      "Train Accuracy = 0.957\n",
      "Validation Accuracy = 0.867\n",
      "\n",
      "EPOCH 37 ...\n",
      "Train Accuracy = 0.986\n",
      "Validation Accuracy = 0.909\n",
      "\n",
      "EPOCH 38 ...\n",
      "Train Accuracy = 0.977\n",
      "Validation Accuracy = 0.896\n",
      "\n",
      "EPOCH 39 ...\n",
      "Train Accuracy = 0.951\n",
      "Validation Accuracy = 0.875\n",
      "\n",
      "EPOCH 40 ...\n",
      "Train Accuracy = 0.958\n",
      "Validation Accuracy = 0.887\n",
      "\n",
      "EPOCH 41 ...\n",
      "Train Accuracy = 0.952\n",
      "Validation Accuracy = 0.884\n",
      "\n",
      "EPOCH 42 ...\n",
      "Train Accuracy = 0.971\n",
      "Validation Accuracy = 0.890\n",
      "\n",
      "EPOCH 43 ...\n",
      "Train Accuracy = 0.997\n",
      "Validation Accuracy = 0.931\n",
      "\n",
      "EPOCH 44 ...\n",
      "Train Accuracy = 0.974\n",
      "Validation Accuracy = 0.899\n",
      "\n",
      "EPOCH 45 ...\n",
      "Train Accuracy = 0.930\n",
      "Validation Accuracy = 0.851\n",
      "\n",
      "EPOCH 46 ...\n",
      "Train Accuracy = 0.988\n",
      "Validation Accuracy = 0.912\n",
      "\n",
      "EPOCH 47 ...\n",
      "Train Accuracy = 0.976\n",
      "Validation Accuracy = 0.899\n",
      "\n",
      "EPOCH 48 ...\n",
      "Train Accuracy = 0.988\n",
      "Validation Accuracy = 0.915\n",
      "\n",
      "EPOCH 49 ...\n",
      "Train Accuracy = 0.998\n",
      "Validation Accuracy = 0.931\n",
      "\n",
      "EPOCH 50 ...\n",
      "Train Accuracy = 0.998\n",
      "Validation Accuracy = 0.931\n",
      "\n"
     ]
    },
    {
     "data": {
      "image/png": "[encoded data removed]",
      "text/plain": [
       "<matplotlib.figure.Figure at 0x37e71bc470>"
      ]
     },
     "metadata": {},
     "output_type": "display_data"
    },
    {
     "name": "stdout",
     "output_type": "stream",
     "text": [
      "Model saved\n"
     ]
    }
   ],
   "source": [
    "train_rate =[]\n",
    "valid_rate=[]\n",
    "EPOCHS = 50\n",
    "rate = 0.001\n",
    "with tf.Session() as sess:\n",
    "    sess.run(tf.global_variables_initializer())\n",
    "    num_examples = len(X_train)\n",
    "    \n",
    "    print(\"Training...\")\n",
    "    print()\n",
    "    for i in range(EPOCHS):\n",
    "        X_train2, y_train2 = shuffle(X_train2, y_train2)\n",
    "        for offset in range(0, num_examples, BATCH_SIZE):\n",
    "            end = offset + BATCH_SIZE\n",
    "            batch_x, batch_y = X_train2[offset:end], y_train2[offset:end]\n",
    "            sess.run(training_operation, feed_dict={x: batch_x, y: batch_y, keep_prob: 1, keep_prob2: 1, keep_prob3: 1})\n",
    "            \n",
    "\n",
    "        train_accuracy = evaluate(X_train2, y_train2)\n",
    "        train_rate.append(train_accuracy)\n",
    "        validation_accuracy = evaluate(X_validation2, y_validation2)\n",
    "        valid_rate.append(validation_accuracy)\n",
    "        print(\"EPOCH {} ...\".format(i+1))\n",
    "        print(\"Train Accuracy = {:.3f}\".format(train_accuracy))\n",
    "        print(\"Validation Accuracy = {:.3f}\".format(validation_accuracy))\n",
    "        print()\n",
    "    plt.figure()\n",
    "    plt.plot(range(EPOCHS), train_rate, 'r', label = 'train accuracy')\n",
    "    plt.plot(range(EPOCHS), valid_rate, 'b', label = 'validation accuracy')\n",
    "    plt.legend(shadow=True)\n",
    "    plt.show()\n",
    "        \n",
    "    saver.save(sess, './lenet')\n",
    "    print(\"Model saved\")"
   ]
  },
  {
   "cell_type": "code",
   "execution_count": 82,
   "metadata": {
    "collapsed": false
   },
   "outputs": [
    {
     "data": {
      "image/png": "[encoded data removed]",
      "text/plain": [
       "<matplotlib.figure.Figure at 0xf78987c240>"
      ]
     },
     "metadata": {},
     "output_type": "display_data"
    }
   ],
   "source": [
    "    plt.figure()\n",
    "    plt.plot(range(EPOCHS), train_rate, 'r', label = 'train accuracy')\n",
    "    plt.plot(range(EPOCHS), valid_rate, 'b', label = 'validation accuracy')\n",
    "    plt.legend(shadow=True)\n",
    "    plt.show()"
   ]
  },
  {
   "cell_type": "markdown",
   "metadata": {},
   "source": [
    "## Evaluate the Model\n",
    "Once you are completely satisfied with your model, evaluate the performance of the model on the test set.\n",
    "\n",
    "Be sure to only do this once!\n",
    "\n",
    "If you were to measure the performance of your trained model on the test set, then improve your model, and then measure the performance of your model on the test set again, that would invalidate your test results. You wouldn't get a true measure of how well your model would perform against real data.\n",
    "\n",
    "You do not need to modify this section."
   ]
  },
  {
   "cell_type": "code",
   "execution_count": 81,
   "metadata": {
    "collapsed": false
   },
   "outputs": [
    {
     "name": "stdout",
     "output_type": "stream",
     "text": [
      "Test Accuracy = 0.884\n"
     ]
    }
   ],
   "source": [
    "with tf.Session() as sess:\n",
    "    saver.restore(sess, tf.train.latest_checkpoint('.'))\n",
    "\n",
    "    test_accuracy = evaluate(X_test, y_test)\n",
    "    print(\"Test Accuracy = {:.3f}\".format(test_accuracy))"
   ]
  }
 ],
 "metadata": {
  "anaconda-cloud": {},
  "kernelspec": {
   "display_name": "Python 3",
   "language": "python",
   "name": "python3"
  },
  "language_info": {
   "codemirror_mode": {
    "name": "ipython",
    "version": 3
   },
   "file_extension": ".py",
   "mimetype": "text/x-python",
   "name": "python",
   "nbconvert_exporter": "python",
   "pygments_lexer": "ipython3",
   "version": "3.5.2"
  },
  "widgets": {
   "state": {},
   "version": "1.1.2"
  }
 },
 "nbformat": 4,
 "nbformat_minor": 0
}
